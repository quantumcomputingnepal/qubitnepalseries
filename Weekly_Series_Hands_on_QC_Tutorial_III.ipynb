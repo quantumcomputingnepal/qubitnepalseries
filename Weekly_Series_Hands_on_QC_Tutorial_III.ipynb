{
 "cells": [
  {
   "attachments": {},
   "cell_type": "markdown",
   "metadata": {},
   "source": [
    "# Algorithms"
   ]
  },
  {
   "attachments": {},
   "cell_type": "markdown",
   "metadata": {},
   "source": [
    " In this brief talk we will look into the basics of algorithms, classical examples and their quantum counterparts followed by illustration of these algorithm in qiskit simulator."
   ]
  },
  {
   "attachments": {},
   "cell_type": "markdown",
   "metadata": {},
   "source": [
    "Algorithm refers to set of instruction used by Turing machine to perform calculations. Turing machine is the generalisation of every computing device we have. Ideally, every computer(that performs calculation) can be reduced down into Turing machine."
   ]
  },
  {
   "attachments": {},
   "cell_type": "markdown",
   "metadata": {},
   "source": [
    "This definition might not strike at first, let's look at some classical examples of algorithms."
   ]
  },
  {
   "attachments": {},
   "cell_type": "markdown",
   "metadata": {},
   "source": [
    "## 1. Binary  Search"
   ]
  },
  {
   "attachments": {},
   "cell_type": "markdown",
   "metadata": {},
   "source": [
    "This is not about finding a binary number(0,1). Rather this algorithm looks for a particular number(target) in a sorted list. Ok, what is a sorted list?\n",
    "\n",
    "Consider a following list in python. "
   ]
  },
  {
   "cell_type": "code",
   "execution_count": 26,
   "metadata": {},
   "outputs": [
    {
     "name": "stdout",
     "output_type": "stream",
     "text": [
      "[11, 19, 14, 18, 10, 12]\n"
     ]
    }
   ],
   "source": [
    "import random\n",
    "MyList = random.sample(range(10, 20), 6)\n",
    "print(MyList)"
   ]
  },
  {
   "attachments": {},
   "cell_type": "markdown",
   "metadata": {},
   "source": [
    "This code snippet produced a list with 6 entries of random numbers. To get a nice list where entries are either in increasing or decreasing order I have to <i>sort</i> the list. Let's sort the list in two ways."
   ]
  },
  {
   "cell_type": "code",
   "execution_count": 31,
   "metadata": {},
   "outputs": [
    {
     "name": "stdout",
     "output_type": "stream",
     "text": [
      "Your list in ascending order is [10, 11, 12, 14, 18, 19]\n",
      "Your list in descending order is [19, 18, 14, 12, 11, 10]\n"
     ]
    }
   ],
   "source": [
    "MyListAscending = sorted(MyList, reverse=False)\n",
    "MyListDescending = sorted(MyList, reverse=True)\n",
    "print(f\"Your list in ascending order is {MyListAscending}\")\n",
    "print(f\"Your list in descending order is {MyListDescending}\")\n"
   ]
  },
  {
   "attachments": {},
   "cell_type": "markdown",
   "metadata": {},
   "source": [
    "The above two list are sorted list. Now what does binary search do to the above list? So now if someone asks you: I want to find the position of \"12\" on [10, 11, 12, 14, 18, 19], tell me what to do? You can simply do:"
   ]
  },
  {
   "cell_type": "code",
   "execution_count": 34,
   "metadata": {},
   "outputs": [
    {
     "name": "stdout",
     "output_type": "stream",
     "text": [
      "The position of  number 12 on the list is 2\n"
     ]
    }
   ],
   "source": [
    "n = 12\n",
    "position = MyListAscending.index(n)\n",
    "print(f\"The position of  number {n} on the list is {position}\")"
   ]
  },
  {
   "attachments": {},
   "cell_type": "markdown",
   "metadata": {},
   "source": [
    "Again, remember list indices start from 0 not 1! So the cell's output of 2 rather that 3 you might have expected is perfectly fine."
   ]
  },
  {
   "attachments": {},
   "cell_type": "markdown",
   "metadata": {},
   "source": [
    "You did this! But that is not the point of this tutorial. You could solve this problem with binary search. So how does this algorithm work?\n",
    "\n",
    "1. Get the size(length) of sorted list. In our example it would be 5.\n",
    "2. Get the middle entry. If this is equal to the target, collet its index\n",
    "3. If target < middle entry, search for target in lower half of list. If target > middle entry, search for target in upper half of list.\n",
    "4. Repeat 1-3.\n",
    "5. If found collect it's index"
   ]
  },
  {
   "cell_type": "code",
   "execution_count": 42,
   "metadata": {},
   "outputs": [],
   "source": [
    "def BinarySearch(YourList: list, target: int, lowest_index: int, highest_index: int):\n",
    "    if lowest_index <= highest_index:\n",
    "        middleIndex = lowest_index + highest_index //2\n",
    "        if YourList[middleIndex] == target:\n",
    "            return middleIndex\n",
    "        elif YourList[middleIndex] < target:\n",
    "            return BinarySearch(MyList, target, middleIndex + 1, highest_index)\n",
    "        else:\n",
    "            return BinarySearch(MyList, target, lowest_index, middleIndex - 1)\n",
    "    else:\n",
    "        raise Exception(\"Your List is Empty\")\n"
   ]
  },
  {
   "cell_type": "code",
   "execution_count": 47,
   "metadata": {},
   "outputs": [
    {
     "name": "stdout",
     "output_type": "stream",
     "text": [
      "The position of 12 is 2\n"
     ]
    }
   ],
   "source": [
    "position = BinarySearch(MyListAscending, n, 0, 5)\n",
    "print(f\"The position of {n} is {position}\")\n"
   ]
  },
  {
   "attachments": {},
   "cell_type": "markdown",
   "metadata": {},
   "source": [
    "Phew....! You saw binary search implementation. Anyway, my goal here is to show how algorithm works: you give machine a set of instructions(if, else, return,... above) and it gives you some output back. Let's look at one more problem and its associated quantum algorithm."
   ]
  },
  {
   "attachments": {},
   "cell_type": "markdown",
   "metadata": {},
   "source": [
    "## Prime Factorisation"
   ]
  },
  {
   "attachments": {},
   "cell_type": "markdown",
   "metadata": {},
   "source": [
    "Every number can be reduced down to product of primes. For example 24 can be written as: 24 = 2 x 2 x 2 x 3. This is a very small number. Public-key cryptosystem (RSA) relies on time complexity of larger primes classically. This assumption holds all our data secure. However, In 1994 Shor showed that quantum computers could efficiently solve the prime facorisation problem. Anyone with a powerful enough quantum computer can break RSA, at least in theory.  Even though it is impossible to perform this algorithm in hardware, it is interesting to note the following results.\n"
   ]
  },
  {
   "attachments": {},
   "cell_type": "markdown",
   "metadata": {},
   "source": [
    "Kleinjung et. al(https://link.springer.com/chapter/10.1007/978-3-642-14623-7_18) factorized 768-bit number. Here 768 bit means a decimal number has 768 bits when written in binary form. For example decimal 4 is 100 in binary and thus decimal 4 is 3-bit number.\n",
    "\n",
    "<b>Classical</b>: Took 100's of computers for a period of 2 years.\n",
    "\n",
    "<b>Quantum</b>: 2000-bit number could be factorised using billion qubits and $O(10^{11})$ gates "
   ]
  },
  {
   "attachments": {},
   "cell_type": "markdown",
   "metadata": {},
   "source": [
    "## Example: Using Shor's Algorithm for Prime Factorisation"
   ]
  },
  {
   "attachments": {},
   "cell_type": "markdown",
   "metadata": {},
   "source": [
    "Shor's factorization was removed from qiskit(https://qiskit.org/documentation/migration_guides/algorithms_migration.html). We can look into implementation of another algorithm: Grover's Algorithm"
   ]
  },
  {
   "attachments": {},
   "cell_type": "markdown",
   "metadata": {},
   "source": [
    "Let's say we have a list from before: [10, 11, 12, 14, 18, 19] and the problem is to pick 12 from it. Now classically for the best case you will get 12 in 1 try and in the worst case you have to try 6 times. Grover's algorithm can solve this problem in $\\sqrt(6)$ trial. Don't worry that the square root of 6 is not an integer. The idea is: if it takes you N trial to search something in the worst case classicaly, you can search it in $\\sqrt(N)$ trials using quantum computers."
   ]
  },
  {
   "attachments": {},
   "cell_type": "markdown",
   "metadata": {},
   "source": [
    "## Functional Parts of Grover Algorithm"
   ]
  },
  {
   "attachments": {},
   "cell_type": "markdown",
   "metadata": {},
   "source": [
    "1. State Preparation: Build your search space.i.e The region you want to search(the list)\n",
    "2. Oracle: Flags correct answer(12)\n",
    "3. Diffusion: Amplifies the probability to obtain right answer(12)"
   ]
  },
  {
   "attachments": {},
   "cell_type": "markdown",
   "metadata": {},
   "source": [
    "## Example of Grover Algorithm: 2 qubits\n",
    "### We will follow qiskit tutorial for this one(https://learn.qiskit.org/course/ch-algorithms/grovers-algorithm). I will try to tone down whenever there's anything complex. You should read the textbook for complete description."
   ]
  },
  {
   "attachments": {},
   "cell_type": "markdown",
   "metadata": {},
   "source": [
    "For two qubits the definite states are: $| 00 \\rangle,  |01 \\rangle,  |10 \\rangle,  |11 \\rangle$. Let's pick which state we want Grover algorithm to pick:  $|11 \\rangle$. Initially the chances of measuring this state in superposition state is 0.25 where our search space has size N = 4."
   ]
  },
  {
   "attachments": {},
   "cell_type": "markdown",
   "metadata": {},
   "source": [
    "To create initial superposition state:"
   ]
  },
  {
   "cell_type": "code",
   "execution_count": 15,
   "metadata": {},
   "outputs": [],
   "source": [
    "import qiskit\n",
    "from qiskit import ClassicalRegister, QuantumCircuit, QuantumRegister, Aer"
   ]
  },
  {
   "cell_type": "code",
   "execution_count": 21,
   "metadata": {},
   "outputs": [
    {
     "data": {
      "image/png": "[encoded data removed]",
      "text/plain": [
       "<Figure size 203.683x200.667 with 1 Axes>"
      ]
     },
     "execution_count": 21,
     "metadata": {},
     "output_type": "execute_result"
    }
   ],
   "source": [
    "qc = QuantumCircuit(2)\n",
    "qc.h(0)\n",
    "qc.h(1)\n",
    "qc.draw(\"mpl\")"
   ]
  },
  {
   "attachments": {},
   "cell_type": "markdown",
   "metadata": {},
   "source": [
    "The oracle is: $U_w |s \\rangle = U_w \\frac{1}{4}  \\left( | 00 \\rangle + |01 \\rangle + |10 \\rangle + |11 \\rangle \\right)$ = $\\frac{1}{4}  \\left( | 00 \\rangle + |01 \\rangle + |10 \\rangle - |11 \\rangle \\right)$"
   ]
  },
  {
   "attachments": {},
   "cell_type": "markdown",
   "metadata": {},
   "source": [
    "As you see, the action of oracle is to flip the sign of \"win\" state. This is control Z gate."
   ]
  },
  {
   "cell_type": "code",
   "execution_count": 22,
   "metadata": {},
   "outputs": [
    {
     "data": {
      "image/png": "[encoded data removed]",
      "text/plain": [
       "<Figure size 370.906x200.667 with 1 Axes>"
      ]
     },
     "execution_count": 22,
     "metadata": {},
     "output_type": "execute_result"
    }
   ],
   "source": [
    "qc.barrier()\n",
    "qc.cz(0, 1)\n",
    "qc.draw(\"mpl\")"
   ]
  },
  {
   "attachments": {},
   "cell_type": "markdown",
   "metadata": {},
   "source": [
    "Now let's add diffuser!"
   ]
  },
  {
   "cell_type": "code",
   "execution_count": 23,
   "metadata": {},
   "outputs": [
    {
     "data": {
      "image/png": "[encoded data removed]",
      "text/plain": [
       "<Figure size 788.961x200.667 with 1 Axes>"
      ]
     },
     "execution_count": 23,
     "metadata": {},
     "output_type": "execute_result"
    }
   ],
   "source": [
    "qc.barrier()\n",
    "qc.h(0)\n",
    "qc.h(1)\n",
    "qc.z(0)\n",
    "qc.z(1)\n",
    "qc.cz(0,1)\n",
    "qc.h(0)\n",
    "qc.h(1)\n",
    "qc.draw(\"mpl\")"
   ]
  },
  {
   "cell_type": "code",
   "execution_count": 18,
   "metadata": {},
   "outputs": [
    {
     "data": {
      "text/latex": [
       "$$\n",
       "|\\psi\\rangle =\n",
       "\\begin{bmatrix}\n",
       "0 & 0 & 0 & 1  \\\\\n",
       " \\end{bmatrix}\n",
       "$$"
      ],
      "text/plain": [
       "<IPython.core.display.Latex object>"
      ]
     },
     "execution_count": 18,
     "metadata": {},
     "output_type": "execute_result"
    }
   ],
   "source": []
  },
  {
   "cell_type": "code",
   "execution_count": 24,
   "metadata": {},
   "outputs": [
    {
     "data": {
      "image/png": "[encoded data removed]",
      "text/plain": [
       "<Figure size 700x500 with 1 Axes>"
      ]
     },
     "execution_count": 24,
     "metadata": {},
     "output_type": "execute_result"
    }
   ],
   "source": [
    "qc.measure_all()\n",
    "backend = Aer.get_backend('qasm_simulator')\n",
    "result = backend.run(qc).result()\n",
    "counts = result.get_counts()\n",
    "plot_histogram(counts)"
   ]
  },
  {
   "attachments": {},
   "cell_type": "markdown",
   "metadata": {},
   "source": [
    "We got our result in 1 shot! Now whenever you want to search a number you should follow the following prescription:\n",
    "1. convert numbers to bit\n",
    "2. prepare quantum circuit\n",
    "3. apply Grover algorithm\n",
    "4. measure and be happy"
   ]
  }
 ],
 "metadata": {
  "kernelspec": {
   "display_name": "Python 3",
   "language": "python",
   "name": "python3"
  },
  "language_info": {
   "codemirror_mode": {
    "name": "ipython",
    "version": 3
   },
   "file_extension": ".py",
   "mimetype": "text/x-python",
   "name": "python",
   "nbconvert_exporter": "python",
   "pygments_lexer": "ipython3",
   "version": "3.11.3"
  },
  "orig_nbformat": 4
 },
 "nbformat": 4,
 "nbformat_minor": 2
}
